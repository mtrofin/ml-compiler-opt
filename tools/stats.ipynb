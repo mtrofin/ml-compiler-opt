{
 "cells": [
  {
   "cell_type": "code",
   "execution_count": null,
   "metadata": {},
   "outputs": [],
   "source": [
    "import csv\n",
    "import glob\n",
    "\n",
    "def load_freq_from_perf(perf_text: str):\n",
    "  f_to_freq = {}\n",
    "  with open(perf_text) as f:\n",
    "    r = csv.reader(f)\n",
    "    for l in r:\n",
    "      if len(l) < 5:\n",
    "        continue\n",
    "      try:\n",
    "        samples = l[1]\n",
    "\n",
    "        fname = l[4].split(']')[1].split('.llvm.')[0].strip()\n",
    "        samples = float(samples)\n",
    "        if not samples:\n",
    "          print(samples)\n",
    "          break\n",
    "        f_to_freq[fname] = samples\n",
    "      except BaseException:\n",
    "        continue\n",
    "\n",
    "f_to_freq = load_freq_from_perf('/tmp/i2')"
   ]
  },
  {
   "cell_type": "code",
   "execution_count": 9,
   "metadata": {},
   "outputs": [],
   "source": [
    "import csv\n",
    "import glob\n",
    "\n",
    "def load_freqs_from_stats(dirname: str):\n",
    "  ret:dict[str, float] = {}\n",
    "  for filename in glob.iglob(os.path.join(dirname,'**'), recursive=True):\n",
    "    if not filename.endswith('.stats'):\n",
    "      continue\n",
    "    with open(filename) as f:\n",
    "      reader = csv.reader(f)\n",
    "      for l in reader:\n",
    "        [fct, md5, freq] = l\n",
    "        ret[fct.split('.llvm.')[0]] = float(freq)\n",
    "  return ret\n",
    "\n",
    "f_to_freq = load_freqs_from_stats('/work/muppet_corpus_samples_head')"
   ]
  },
  {
   "cell_type": "code",
   "execution_count": 10,
   "metadata": {},
   "outputs": [],
   "source": [
    "rev_freqs = sorted([(freq, fn) for fn, freq in f_to_freq.items()], reverse=True)\n",
    "total = sum(v for _, v in f_to_freq.items())\n",
    "important = []\n",
    "\n",
    "t = 0.0\n",
    "for freq, fn in rev_freqs:\n",
    "  if t > 0.99 * total:\n",
    "    break\n",
    "  t += freq\n",
    "  important.append((freq, fn))\n"
   ]
  },
  {
   "cell_type": "code",
   "execution_count": 2,
   "metadata": {},
   "outputs": [],
   "source": [
    "import dataclasses\n",
    "import os\n",
    "\n",
    "@dataclasses.dataclass(frozen=True)\n",
    "class Score:\n",
    "  copy:float\n",
    "  load:float\n",
    "  store:float\n",
    "  ch_remat:float\n",
    "  ex_remat:float\n",
    "  loadstore:float\n",
    "\n",
    "def load_raw(dirname: str):\n",
    "  ret:dict[str, Score] = {}\n",
    "  for filename in glob.iglob(os.path.join(dirname,'**'), recursive=True):\n",
    "    if not filename.endswith('.stats'):\n",
    "      continue\n",
    "    with open(filename) as f:\n",
    "      reader = csv.reader(f)\n",
    "      for l in reader:\n",
    "        l = l[:-1]\n",
    "        if len(l) != 7:\n",
    "          print(l)\n",
    "        [fct, copy, load, store, loadstore, ch_remat, ex_remat] = l\n",
    "        ret[fct.split('.llvm.')[0]] = Score(\n",
    "            copy=float(copy),\n",
    "            load=float(load),\n",
    "            store=float(store),\n",
    "            ch_remat=float(ch_remat),\n",
    "            ex_remat=float(ex_remat),\n",
    "            loadstore=float(loadstore))\n",
    "  return ret\n",
    "\n",
    "raw_base = load_raw('/work/muppet_corpus_raw')\n",
    "raw_shipped = load_raw('/work/muppet_corpus_mlgo_raw')\n",
    "raw_9K = load_raw('/work/muppet_corpus_9K_raw')\n",
    "raw_300K = load_raw('/work/muppet_corpus_300K_raw')\n",
    "neg_262K = load_raw('/work/muppet_corpus_neg_262K_raw')\n"
   ]
  },
  {
   "cell_type": "code",
   "execution_count": 23,
   "metadata": {},
   "outputs": [
    {
     "ename": "KeyboardInterrupt",
     "evalue": "",
     "output_type": "error",
     "traceback": [
      "\u001b[0;31m---------------------------------------------------------------------------\u001b[0m",
      "\u001b[0;31mKeyboardInterrupt\u001b[0m                         Traceback (most recent call last)",
      "\u001b[1;32m/work/ml-compiler-opt/tools/stats.ipynb Cell 4\u001b[0m in \u001b[0;36m<cell line: 19>\u001b[0;34m()\u001b[0m\n\u001b[1;32m     <a href='vscode-notebook-cell://ssh-remote%2Bmtrofin.c.googlers.com/work/ml-compiler-opt/tools/stats.ipynb#W2sdnNjb2RlLXJlbW90ZQ%3D%3D?line=15'>16</a>\u001b[0m   \u001b[39mreturn\u001b[39;00m \u001b[39msorted\u001b[39m([(v, f) \u001b[39mfor\u001b[39;00m f, v \u001b[39min\u001b[39;00m mlgo\u001b[39m.\u001b[39mitems()], reverse\u001b[39m=\u001b[39m\u001b[39mTrue\u001b[39;00m), mlgo\n\u001b[1;32m     <a href='vscode-notebook-cell://ssh-remote%2Bmtrofin.c.googlers.com/work/ml-compiler-opt/tools/stats.ipynb#W2sdnNjb2RlLXJlbW90ZQ%3D%3D?line=17'>18</a>\u001b[0m mlgo_values, mlgo \u001b[39m=\u001b[39m load_compiler_values(\u001b[39m'\u001b[39m\u001b[39m/work/muppet_shipped.csv\u001b[39m\u001b[39m'\u001b[39m)\n\u001b[0;32m---> <a href='vscode-notebook-cell://ssh-remote%2Bmtrofin.c.googlers.com/work/ml-compiler-opt/tools/stats.ipynb#W2sdnNjb2RlLXJlbW90ZQ%3D%3D?line=18'>19</a>\u001b[0m experiment_values, experiment \u001b[39m=\u001b[39m load_compiler_values(\u001b[39m'\u001b[39;49m\u001b[39m/work/muppet_shipped_important_303K.csv\u001b[39;49m\u001b[39m'\u001b[39;49m)\n",
      "\u001b[1;32m/work/ml-compiler-opt/tools/stats.ipynb Cell 4\u001b[0m in \u001b[0;36mload_compiler_values\u001b[0;34m(fname)\u001b[0m\n\u001b[1;32m      <a href='vscode-notebook-cell://ssh-remote%2Bmtrofin.c.googlers.com/work/ml-compiler-opt/tools/stats.ipynb#W2sdnNjb2RlLXJlbW90ZQ%3D%3D?line=8'>9</a>\u001b[0m \u001b[39mwith\u001b[39;00m \u001b[39mopen\u001b[39m(fname) \u001b[39mas\u001b[39;00m f:\n\u001b[1;32m     <a href='vscode-notebook-cell://ssh-remote%2Bmtrofin.c.googlers.com/work/ml-compiler-opt/tools/stats.ipynb#W2sdnNjb2RlLXJlbW90ZQ%3D%3D?line=9'>10</a>\u001b[0m   r \u001b[39m=\u001b[39m csv\u001b[39m.\u001b[39mreader(f)\n\u001b[0;32m---> <a href='vscode-notebook-cell://ssh-remote%2Bmtrofin.c.googlers.com/work/ml-compiler-opt/tools/stats.ipynb#W2sdnNjb2RlLXJlbW90ZQ%3D%3D?line=10'>11</a>\u001b[0m   \u001b[39mfor\u001b[39;00m [_,fct,d,p] \u001b[39min\u001b[39;00m r:\n\u001b[1;32m     <a href='vscode-notebook-cell://ssh-remote%2Bmtrofin.c.googlers.com/work/ml-compiler-opt/tools/stats.ipynb#W2sdnNjb2RlLXJlbW90ZQ%3D%3D?line=11'>12</a>\u001b[0m     fct\u001b[39m=\u001b[39mfct\u001b[39m.\u001b[39msplit(\u001b[39m'\u001b[39m\u001b[39m.llvm.\u001b[39m\u001b[39m'\u001b[39m)[\u001b[39m0\u001b[39m]\n\u001b[1;32m     <a href='vscode-notebook-cell://ssh-remote%2Bmtrofin.c.googlers.com/work/ml-compiler-opt/tools/stats.ipynb#W2sdnNjb2RlLXJlbW90ZQ%3D%3D?line=12'>13</a>\u001b[0m     d \u001b[39m=\u001b[39m \u001b[39mfloat\u001b[39m(d)\n",
      "File \u001b[0;32m/usr/lib/python3.9/codecs.py:319\u001b[0m, in \u001b[0;36mBufferedIncrementalDecoder.decode\u001b[0;34m(self, input, final)\u001b[0m\n\u001b[1;32m    314\u001b[0m \u001b[39mdef\u001b[39;00m \u001b[39m_buffer_decode\u001b[39m(\u001b[39mself\u001b[39m, \u001b[39minput\u001b[39m, errors, final):\n\u001b[1;32m    315\u001b[0m     \u001b[39m# Overwrite this method in subclasses: It must decode input\u001b[39;00m\n\u001b[1;32m    316\u001b[0m     \u001b[39m# and return an (output, length consumed) tuple\u001b[39;00m\n\u001b[1;32m    317\u001b[0m     \u001b[39mraise\u001b[39;00m \u001b[39mNotImplementedError\u001b[39;00m\n\u001b[0;32m--> 319\u001b[0m \u001b[39mdef\u001b[39;00m \u001b[39mdecode\u001b[39m(\u001b[39mself\u001b[39m, \u001b[39minput\u001b[39m, final\u001b[39m=\u001b[39m\u001b[39mFalse\u001b[39;00m):\n\u001b[1;32m    320\u001b[0m     \u001b[39m# decode input (taking the buffer into account)\u001b[39;00m\n\u001b[1;32m    321\u001b[0m     data \u001b[39m=\u001b[39m \u001b[39mself\u001b[39m\u001b[39m.\u001b[39mbuffer \u001b[39m+\u001b[39m \u001b[39minput\u001b[39m\n\u001b[1;32m    322\u001b[0m     (result, consumed) \u001b[39m=\u001b[39m \u001b[39mself\u001b[39m\u001b[39m.\u001b[39m_buffer_decode(data, \u001b[39mself\u001b[39m\u001b[39m.\u001b[39merrors, final)\n",
      "\u001b[0;31mKeyboardInterrupt\u001b[0m: "
     ]
    }
   ],
   "source": [
    "def shipped_reward(p, d):\n",
    "  return 1.0 - (p+0.01)/(d+0.01)\n",
    "\n",
    "def diff_reward(p,d):\n",
    "  return d - p\n",
    "\n",
    "def load_compiler_values(fname):\n",
    "  mlgo = {}\n",
    "  with open(fname) as f:\n",
    "    r = csv.reader(f)\n",
    "    for [_,fct,d,p] in r:\n",
    "      fct=fct.split('.llvm.')[0]\n",
    "      d = float(d)\n",
    "      p = float(p)\n",
    "      mlgo[fct] = diff_reward(p, d)\n",
    "  return sorted([(v, f) for f, v in mlgo.items()], reverse=True), mlgo\n",
    "\n",
    "mlgo_values, mlgo = load_compiler_values('/work/muppet_shipped.csv')\n",
    "experiment_values, experiment = load_compiler_values('/work/muppet_shipped_important_303K.csv')"
   ]
  },
  {
   "cell_type": "code",
   "execution_count": null,
   "metadata": {},
   "outputs": [],
   "source": [
    "important_set = set([fname for _, fname in important])\n",
    "\n",
    "def get_score(s: Score)->float:\n",
    "  return 1 * s.load + 1 * s.store  + 1 * s.loadstore - 3 * s.ex_remat + 1 * s.copy\n",
    "\n",
    "def report(scores: dict[str, Score]):\n",
    "  total_score = 0.0\n",
    "  total_used = 0\n",
    "  for f in important_set:\n",
    "    if f not in scores:\n",
    "      continue\n",
    "    total_used += 1\n",
    "    w = f_to_freq[f] / total\n",
    "    numeric_score = get_score(scores[f])\n",
    "    total_score += numeric_score\n",
    "  return total_score\n",
    "\n",
    "nine=report(raw_9K)\n",
    "base=report(raw_base)\n",
    "threeK = report(raw_300K)\n",
    "shipped = report(raw_shipped)\n",
    "n = report(neg_262K)\n",
    "print(f'{100 * (1-nine/base)} {100 * (1-threeK/base)} {100 * (1-shipped/base)}')\n",
    "print(f'{100 * (1 - n/base)}')\n"
   ]
  }
 ],
 "metadata": {
  "kernelspec": {
   "display_name": "Python 3.9.13 64-bit",
   "language": "python",
   "name": "python3"
  },
  "language_info": {
   "codemirror_mode": {
    "name": "ipython",
    "version": 3
   },
   "file_extension": ".py",
   "mimetype": "text/x-python",
   "name": "python",
   "nbconvert_exporter": "python",
   "pygments_lexer": "ipython3",
   "version": "3.9.13"
  },
  "orig_nbformat": 4,
  "vscode": {
   "interpreter": {
    "hash": "36cf16204b8548560b1c020c4e8fb5b57f0e4c58016f52f2d4be01e192833930"
   }
  }
 },
 "nbformat": 4,
 "nbformat_minor": 2
}
